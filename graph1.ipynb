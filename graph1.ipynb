{
 "cells": [
  {
   "cell_type": "code",
   "execution_count": 1,
   "id": "b6c9f8e1",
   "metadata": {},
   "outputs": [],
   "source": [
    "import plotly\n",
    "import dash\n",
    "from dash import html\n",
    "from dash import dcc\n",
    "import numpy as np\n",
    "import pandas as pd\n",
    "import plotly.graph_objs as go \n",
    "from dash.dependencies import Input,Output\n",
    "import plotly.express as px\n",
    "import pyodbc as py"
   ]
  },
  {
   "cell_type": "code",
   "execution_count": 2,
   "id": "868da246",
   "metadata": {},
   "outputs": [],
   "source": [
    "server = 'd2mtrainingdb.database.windows.net'\n",
    "db = 'd2manalysistraining'\n",
    "user = 'dbtuser'\n",
    "pwd = 'Disys@2022'\n",
    "conn = py.connect('DRIVER={SQL Server};SERVER=' + server +\n",
    "                      ';DATABASE=' + db +\n",
    "                      '; UID=' + user +\n",
    "                      '; PWD=' + pwd +\n",
    "                      ';Trusted_Connection=no')\n",
    "cursor = conn.cursor()"
   ]
  },
  {
   "cell_type": "code",
   "execution_count": 3,
   "id": "3d76736e",
   "metadata": {},
   "outputs": [],
   "source": [
    "df=pd.read_sql_query('select * from table1',conn)"
   ]
  },
  {
   "cell_type": "code",
   "execution_count": 4,
   "id": "54d512db",
   "metadata": {},
   "outputs": [],
   "source": [
    "app=dash.Dash(__name__)\n",
    "app.layout=html.Div([\n",
    "    html.Div([\n",
    "        html.Label(['select']),\n",
    "        dcc.Dropdown(\n",
    "        id='drop_down',\n",
    "        options=[{'label':'disease','value':'Patient_disease'},\n",
    "                 {'label':'bloodgroup','value':'Patient_bloodgroup'}],\n",
    "            multi=False,\n",
    "            clearable=False,\n",
    "            style={\"width\":\"40%\"}),\n",
    "            \n",
    "        ]),\n",
    "    html.Div([\n",
    "        dcc.Graph(id=\"graph\")\n",
    "    ]),\n",
    "    ])\n",
    "@app.callback(\n",
    "Output(component_id='graph',component_property='figure'),\n",
    "[Input(component_id='drop_down',component_property='value')])\n",
    "\n",
    "def update_graph(graph):\n",
    "    dff=df\n",
    "    \n",
    "    piechart=px.pie(\n",
    "                     data_frame=dff,\n",
    "                      names=graph,\n",
    "                       hole=.3)\n",
    "    return(piechart)\n"
   ]
  },
  {
   "cell_type": "code",
   "execution_count": null,
   "id": "a11c3123",
   "metadata": {},
   "outputs": [
    {
     "name": "stdout",
     "output_type": "stream",
     "text": [
      "Dash is running on http://127.0.0.1:8051/\n",
      "\n",
      " * Serving Flask app \"__main__\" (lazy loading)\n",
      " * Environment: production\n",
      "\u001b[31m   WARNING: This is a development server. Do not use it in a production deployment.\u001b[0m\n",
      "\u001b[2m   Use a production WSGI server instead.\u001b[0m\n",
      " * Debug mode: off\n"
     ]
    },
    {
     "name": "stderr",
     "output_type": "stream",
     "text": [
      " * Running on http://127.0.0.1:8051/ (Press CTRL+C to quit)\n",
      "127.0.0.1 - - [08/Feb/2022 01:42:15] \"GET / HTTP/1.1\" 200 -\n",
      "127.0.0.1 - - [08/Feb/2022 01:42:16] \"GET /_dash-layout HTTP/1.1\" 200 -\n",
      "127.0.0.1 - - [08/Feb/2022 01:42:16] \"GET /_dash-dependencies HTTP/1.1\" 200 -\n",
      "127.0.0.1 - - [08/Feb/2022 01:42:16] \"GET /_dash-component-suites/dash/dcc/async-dropdown.js HTTP/1.1\" 200 -\n",
      "127.0.0.1 - - [08/Feb/2022 01:42:16] \"GET /_dash-component-suites/dash/dcc/async-plotlyjs.js HTTP/1.1\" 200 -\n",
      "127.0.0.1 - - [08/Feb/2022 01:42:16] \"GET /_dash-component-suites/dash/dcc/async-graph.js HTTP/1.1\" 200 -\n",
      "127.0.0.1 - - [08/Feb/2022 01:42:24] \"POST /_dash-update-component HTTP/1.1\" 200 -\n",
      "127.0.0.1 - - [08/Feb/2022 01:42:28] \"POST /_dash-update-component HTTP/1.1\" 200 -\n"
     ]
    }
   ],
   "source": [
    "if __name__ == '__main__':\n",
    "    app.run_server(port=8051)"
   ]
  },
  {
   "cell_type": "code",
   "execution_count": null,
   "id": "4d7e8288",
   "metadata": {},
   "outputs": [],
   "source": []
  }
 ],
 "metadata": {
  "kernelspec": {
   "display_name": "Python 3 (ipykernel)",
   "language": "python",
   "name": "python3"
  },
  "language_info": {
   "codemirror_mode": {
    "name": "ipython",
    "version": 3
   },
   "file_extension": ".py",
   "mimetype": "text/x-python",
   "name": "python",
   "nbconvert_exporter": "python",
   "pygments_lexer": "ipython3",
   "version": "3.9.7"
  }
 },
 "nbformat": 4,
 "nbformat_minor": 5
}
