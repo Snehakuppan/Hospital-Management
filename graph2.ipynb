{
 "cells": [
  {
   "cell_type": "code",
   "execution_count": 1,
   "id": "f39273f7",
   "metadata": {},
   "outputs": [],
   "source": [
    "import plotly\n",
    "import dash\n",
    "from dash import html\n",
    "from dash import dcc\n",
    "import numpy as np\n",
    "import pandas as pd\n",
    "import plotly.graph_objs as go \n",
    "from dash.dependencies import Input,Output\n",
    "import plotly.express as px\n",
    "import pyodbc as py"
   ]
  },
  {
   "cell_type": "code",
   "execution_count": 2,
   "id": "308358f6",
   "metadata": {},
   "outputs": [],
   "source": [
    "server = 'd2mtrainingdb.database.windows.net'\n",
    "db = 'd2manalysistraining'\n",
    "user = 'dbtuser'\n",
    "pwd = 'Disys@2022'\n",
    "conn = py.connect('DRIVER={SQL Server};SERVER=' + server +\n",
    "                      ';DATABASE=' + db +\n",
    "                      '; UID=' + user +\n",
    "                      '; PWD=' + pwd +\n",
    "                      ';Trusted_Connection=no')\n",
    "cursor = conn.cursor()"
   ]
  },
  {
   "cell_type": "code",
   "execution_count": 3,
   "id": "32cb6a42",
   "metadata": {},
   "outputs": [],
   "source": [
    "df=pd.read_sql_query('select * from sk_patient_vs_disease',conn)"
   ]
  },
  {
   "cell_type": "code",
   "execution_count": 4,
   "id": "07739025",
   "metadata": {},
   "outputs": [],
   "source": [
    "app=dash.Dash('__name__')"
   ]
  },
  {
   "cell_type": "code",
   "execution_count": 5,
   "id": "a08711be",
   "metadata": {},
   "outputs": [],
   "source": [
    "app.layout=html.Div([\n",
    "    html.Div([\n",
    "    html.Label(['X axis categories:'],style={'font-weight':'bold'}),\n",
    "    dcc.RadioItems(\n",
    "    id='xaxis_raditem',\n",
    "    options=[\n",
    "        {'label':'disease','value':'Patient_disease'}],\n",
    "        style={\"width\":\"50%\"}),]),\n",
    "    html.Div([\n",
    "           html.Br(),\n",
    "            html.Label(['y axis categories'],style={'font-weight':'bold'}),\n",
    "    dcc.RadioItems(\n",
    "        id='yaxis_raditem',\n",
    "    options=[\n",
    "        {'label':'Patient_count','value':'patient'}],\n",
    "        style={\"width\":\"50%\"}),\n",
    "    ]),\n",
    "    html.Div([\n",
    "        dcc.Graph(id='graph')\n",
    "    ]),\n",
    "])\n",
    "\n",
    "    \n"
   ]
  },
  {
   "cell_type": "code",
   "execution_count": 6,
   "id": "966e8906",
   "metadata": {},
   "outputs": [],
   "source": [
    "@app.callback(Output(component_id='graph',component_property='figure'),\n",
    "             [Input(component_id='xaxis_raditem',component_property='value'),\n",
    "              Input(component_id='yaxis_raditem',component_property='value')\n",
    "             ])\n",
    "def upgrade_graph(x_axis,y_axis):\n",
    "    dff=df\n",
    "    barchart=px.bar(\n",
    "                  data_frame=dff,\n",
    "                  x=x_axis,\n",
    "                  y=y_axis,\n",
    "                  title=x_axis+'  vs  ' +y_axis)\n",
    "                  \n",
    "    barchart.update_layout(title={'xanchor':'center', 'yanchor': 'top', 'y':0.9,'x':0.5,},)\n",
    "    \n",
    "    return(barchart)\n",
    "    \n",
    "    "
   ]
  },
  {
   "cell_type": "code",
   "execution_count": null,
   "id": "08a78a63",
   "metadata": {},
   "outputs": [
    {
     "name": "stdout",
     "output_type": "stream",
     "text": [
      "Dash is running on http://127.0.0.1:8050/\n",
      "\n",
      " * Serving Flask app \"__name__\" (lazy loading)\n",
      " * Environment: production\n",
      "\u001b[31m   WARNING: This is a development server. Do not use it in a production deployment.\u001b[0m\n",
      "\u001b[2m   Use a production WSGI server instead.\u001b[0m\n",
      " * Debug mode: off\n"
     ]
    },
    {
     "name": "stderr",
     "output_type": "stream",
     "text": [
      " * Running on http://127.0.0.1:8050/ (Press CTRL+C to quit)\n",
      "127.0.0.1 - - [08/Feb/2022 01:42:51] \"GET / HTTP/1.1\" 200 -\n",
      "127.0.0.1 - - [08/Feb/2022 01:42:51] \"GET /_dash-layout HTTP/1.1\" 200 -\n",
      "127.0.0.1 - - [08/Feb/2022 01:42:51] \"GET /_dash-dependencies HTTP/1.1\" 200 -\n",
      "127.0.0.1 - - [08/Feb/2022 01:42:51] \"GET /_dash-component-suites/dash/dcc/async-graph.js HTTP/1.1\" 200 -\n",
      "127.0.0.1 - - [08/Feb/2022 01:42:51] \"GET /_dash-component-suites/dash/dcc/async-plotlyjs.js HTTP/1.1\" 200 -\n"
     ]
    },
    {
     "name": "stdout",
     "output_type": "stream",
     "text": [
      "Exception on /_dash-update-component [POST]\n",
      "Traceback (most recent call last):\n",
      "  File \"C:\\Users\\Sneha.Kuppan\\Anaconda3\\lib\\site-packages\\flask\\app.py\", line 2447, in wsgi_app\n",
      "    response = self.full_dispatch_request()\n",
      "  File \"C:\\Users\\Sneha.Kuppan\\Anaconda3\\lib\\site-packages\\flask\\app.py\", line 1952, in full_dispatch_request\n",
      "    rv = self.handle_user_exception(e)\n",
      "  File \"C:\\Users\\Sneha.Kuppan\\Anaconda3\\lib\\site-packages\\flask\\app.py\", line 1821, in handle_user_exception\n",
      "    reraise(exc_type, exc_value, tb)\n",
      "  File \"C:\\Users\\Sneha.Kuppan\\Anaconda3\\lib\\site-packages\\flask\\_compat.py\", line 39, in reraise\n",
      "    raise value\n",
      "  File \"C:\\Users\\Sneha.Kuppan\\Anaconda3\\lib\\site-packages\\flask\\app.py\", line 1950, in full_dispatch_request\n",
      "    rv = self.dispatch_request()\n",
      "  File \"C:\\Users\\Sneha.Kuppan\\Anaconda3\\lib\\site-packages\\flask\\app.py\", line 1936, in dispatch_request\n",
      "    return self.view_functions[rule.endpoint](**req.view_args)\n",
      "  File \"C:\\Users\\Sneha.Kuppan\\Anaconda3\\lib\\site-packages\\dash\\dash.py\", line 1344, in dispatch\n",
      "    response.set_data(func(*args, outputs_list=outputs_list))\n",
      "  File \"C:\\Users\\Sneha.Kuppan\\Anaconda3\\lib\\site-packages\\dash\\_callback.py\", line 151, in add_context\n",
      "    output_value = func(*func_args, **func_kwargs)  # %% callback invoked %%\n",
      "  File \"C:\\Users\\SNEHA~1.KUP\\AppData\\Local\\Temp/ipykernel_6296/2636609903.py\", line 11, in upgrade_graph\n",
      "    title=x_axis+'  vs  ' +y_axis)\n",
      "TypeError: unsupported operand type(s) for +: 'NoneType' and 'str'\n"
     ]
    },
    {
     "name": "stderr",
     "output_type": "stream",
     "text": [
      "127.0.0.1 - - [08/Feb/2022 01:42:51] \"POST /_dash-update-component HTTP/1.1\" 500 -\n"
     ]
    },
    {
     "name": "stdout",
     "output_type": "stream",
     "text": [
      "Exception on /_dash-update-component [POST]\n",
      "Traceback (most recent call last):\n",
      "  File \"C:\\Users\\Sneha.Kuppan\\Anaconda3\\lib\\site-packages\\flask\\app.py\", line 2447, in wsgi_app\n",
      "    response = self.full_dispatch_request()\n",
      "  File \"C:\\Users\\Sneha.Kuppan\\Anaconda3\\lib\\site-packages\\flask\\app.py\", line 1952, in full_dispatch_request\n",
      "    rv = self.handle_user_exception(e)\n",
      "  File \"C:\\Users\\Sneha.Kuppan\\Anaconda3\\lib\\site-packages\\flask\\app.py\", line 1821, in handle_user_exception\n",
      "    reraise(exc_type, exc_value, tb)\n",
      "  File \"C:\\Users\\Sneha.Kuppan\\Anaconda3\\lib\\site-packages\\flask\\_compat.py\", line 39, in reraise\n",
      "    raise value\n",
      "  File \"C:\\Users\\Sneha.Kuppan\\Anaconda3\\lib\\site-packages\\flask\\app.py\", line 1950, in full_dispatch_request\n",
      "    rv = self.dispatch_request()\n",
      "  File \"C:\\Users\\Sneha.Kuppan\\Anaconda3\\lib\\site-packages\\flask\\app.py\", line 1936, in dispatch_request\n",
      "    return self.view_functions[rule.endpoint](**req.view_args)\n",
      "  File \"C:\\Users\\Sneha.Kuppan\\Anaconda3\\lib\\site-packages\\dash\\dash.py\", line 1344, in dispatch\n",
      "    response.set_data(func(*args, outputs_list=outputs_list))\n",
      "  File \"C:\\Users\\Sneha.Kuppan\\Anaconda3\\lib\\site-packages\\dash\\_callback.py\", line 151, in add_context\n",
      "    output_value = func(*func_args, **func_kwargs)  # %% callback invoked %%\n",
      "  File \"C:\\Users\\SNEHA~1.KUP\\AppData\\Local\\Temp/ipykernel_6296/2636609903.py\", line 11, in upgrade_graph\n",
      "    title=x_axis+'  vs  ' +y_axis)\n",
      "TypeError: can only concatenate str (not \"NoneType\") to str\n"
     ]
    },
    {
     "name": "stderr",
     "output_type": "stream",
     "text": [
      "127.0.0.1 - - [08/Feb/2022 01:42:53] \"POST /_dash-update-component HTTP/1.1\" 500 -\n",
      "127.0.0.1 - - [08/Feb/2022 01:42:55] \"POST /_dash-update-component HTTP/1.1\" 200 -\n"
     ]
    }
   ],
   "source": [
    "if __name__ == '__main__':\n",
    "    app.run_server(port=8050)"
   ]
  }
 ],
 "metadata": {
  "kernelspec": {
   "display_name": "Python 3 (ipykernel)",
   "language": "python",
   "name": "python3"
  },
  "language_info": {
   "codemirror_mode": {
    "name": "ipython",
    "version": 3
   },
   "file_extension": ".py",
   "mimetype": "text/x-python",
   "name": "python",
   "nbconvert_exporter": "python",
   "pygments_lexer": "ipython3",
   "version": "3.9.7"
  }
 },
 "nbformat": 4,
 "nbformat_minor": 5
}
